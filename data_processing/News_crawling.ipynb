{
 "cells": [
  {
   "cell_type": "code",
   "execution_count": null,
   "id": "656d3639",
   "metadata": {},
   "outputs": [],
   "source": [
    "import os\n",
    "import warnings\n",
    "\n",
    "warnings.filterwarnings(\"ignore\")\n",
    "\n",
    "import requests\n",
    "import json\n",
    "import pandas as pd\n",
    "import time\n",
    "import random\n",
    "\n",
    "from vaderSentiment.vaderSentiment import SentimentIntensityAnalyzer"
   ]
  },
  {
   "cell_type": "code",
   "execution_count": null,
   "id": "3a1c6cf8",
   "metadata": {},
   "outputs": [],
   "source": [
    "headers = {'User-Agent':\"Mozilla/5.0 (Macintosh; Intel Mac OS X 10_15_7) AppleWebKit/537.36 (KHTML, like Gecko) Chrome/116.0.0.0 Safari/537.36\", \n",
    "           'referer' : 'https://www.bloomberg.com/search?query=bitcoin'}"
   ]
  },
  {
   "cell_type": "code",
   "execution_count": null,
   "id": "89ee0995",
   "metadata": {},
   "outputs": [],
   "source": [
    "r = requests.get(f\"https://www.bloomberg.com/markets2/api/search?query=bitcoin&page={1000}&sort=relevance\",\n",
    "                    headers = headers)\n",
    "    \n",
    "news_list = json.loads(r.text)['results']\n",
    "news_list"
   ]
  },
  {
   "cell_type": "code",
   "execution_count": null,
   "id": "6d598280",
   "metadata": {},
   "outputs": [],
   "source": [
    "analyzer = SentimentIntensityAnalyzer()"
   ]
  },
  {
   "cell_type": "code",
   "execution_count": null,
   "id": "051c0a80",
   "metadata": {
    "scrolled": true
   },
   "outputs": [],
   "source": [
    "for page in range(719,1001):\n",
    "    r = requests.get(f\"https://www.bloomberg.com/markets2/api/search?query=bitcoin&page={page}&sort=relevance\",\n",
    "                    headers = headers)\n",
    "    \n",
    "    news_list = json.loads(r.text)['results'] \n",
    "    \n",
    "    \n",
    "    news_data_all = []\n",
    "    for news in news_list:\n",
    "        # Parse the date and format it as 'YYYY-MM-DD'\n",
    "        date = pd.to_datetime(news['publishedAt']).strftime('%Y-%m-%d')\n",
    "        \n",
    "        # Calculate sentiment score using VADER\n",
    "        sentiment = analyzer.polarity_scores(news['summary'])['compound']\n",
    "        \n",
    "        # Append data to the list\n",
    "        news_data_all.append({'Date': date, 'VaderScore': sentiment,  'Headline': news['headline'], 'Summary': news['summary']})\n",
    "\n",
    "    df_all = pd.DataFrame(news_data_all)\n",
    "\n",
    "    if page== 1:\n",
    "        df_all.to_csv('data/news_data_all.csv',index=False)\n",
    "\n",
    "    else:\n",
    "        df_all.to_csv('data/news_data_all.csv',index=False, mode='a')\n",
    "\n",
    "\n",
    "    time.sleep(random.uniform(2,5))\n",
    "    print(page)"
   ]
  }
 ],
 "metadata": {
  "kernelspec": {
   "display_name": "Python 3 (ipykernel)",
   "language": "python",
   "name": "python3"
  },
  "language_info": {
   "codemirror_mode": {
    "name": "ipython",
    "version": 3
   },
   "file_extension": ".py",
   "mimetype": "text/x-python",
   "name": "python",
   "nbconvert_exporter": "python",
   "pygments_lexer": "ipython3",
   "version": "3.9.13"
  }
 },
 "nbformat": 4,
 "nbformat_minor": 5
}
